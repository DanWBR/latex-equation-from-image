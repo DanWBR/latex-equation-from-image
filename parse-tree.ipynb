{
 "metadata": {
  "name": "",
  "signature": "sha256:cb14cbb8be3d635a52220eaa51f40160a7d697e47544499e2d81283ac48148b6"
 },
 "nbformat": 3,
 "nbformat_minor": 0,
 "worksheets": [
  {
   "cells": [
    {
     "cell_type": "code",
     "collapsed": false,
     "input": [
      "from IPython.core.display import Image "
     ],
     "language": "python",
     "metadata": {},
     "outputs": [],
     "prompt_number": 1
    },
    {
     "cell_type": "code",
     "collapsed": false,
     "input": [
      "maths = [w.strip() for w in open('math-from-wikipedia.txt')]\n",
      "# generate images\n",
      "# tex2im = 'tex2im-1.8/tex2im'\n",
      "# ipython = get_ipython()\n",
      "# for i, code in enumerate(maths):\n",
      "#     tmp_out = 'img-math-from-wikipedia/%s.png'%i\n",
      "#     ipython.getoutput(\"%s -o %s \\\"{%s}\\\"\" % (tex2im, tmp_out, code.replace('\\\\','\\\\\\\\')))"
     ],
     "language": "python",
     "metadata": {},
     "outputs": [],
     "prompt_number": 2
    },
    {
     "cell_type": "markdown",
     "metadata": {},
     "source": [
      "# Simple symbol splitting"
     ]
    },
    {
     "cell_type": "code",
     "collapsed": false,
     "input": [
      "def split_symbols(string):\n",
      "    symbol = ''\n",
      "    for s in string:\n",
      "        if s == '\\\\' or (symbol and s.isalpha()):\n",
      "            symbol += s\n",
      "        else:\n",
      "            if symbol:\n",
      "                yield symbol\n",
      "                symbol = ''\n",
      "            yield s\n",
      "\n",
      "for i in range(10):\n",
      "    print maths[i], list(split_symbols(maths[i]))"
     ],
     "language": "python",
     "metadata": {},
     "outputs": [
      {
       "output_type": "stream",
       "stream": "stdout",
       "text": [
        "{\\bar \\alpha(\\theta_i)} ['{', '\\\\bar', ' ', '\\\\alpha', '(', '\\\\theta', '_', 'i', ')', '}']\n",
        "\\bar{ \\bar \\alpha} ['\\\\bar', '{', ' ', '\\\\bar', ' ', '\\\\alpha', '}']\n",
        "{D} ['{', 'D', '}']\n",
        "{\\alpha} ['{', '\\\\alpha', '}']\n",
        "{\\alpha}= (1-D) \\bar \\alpha(\\theta_i) + D \\bar{ \\bar \\alpha}. ['{', '\\\\alpha', '}', '=', ' ', '(', '1', '-', 'D', ')', ' ', '\\\\bar', ' ', '\\\\alpha', '(', '\\\\theta', '_', 'i', ')', ' ', '+', ' ', 'D', ' ', '\\\\bar', '{', ' ', '\\\\bar', ' ', '\\\\alpha', '}', '.']\n",
        "A =\\left ( \\frac{1329\\times10^{-H/5}}{D} \\right ) ^2 ['A', ' ', '=', '\\\\left', ' ', '(', ' ', '\\\\frac', '{', '1', '3', '2', '9', '\\\\times', '1', '0', '^', '{', '-', 'H', '/', '5', '}', '}', '{', 'D', '}', ' ', '\\\\right', ' ', ')', ' ', '^', '2']\n",
        "A ['A']\n",
        "D ['D']\n",
        "H ['H']\n",
        "a_1,\\ldots,a_n. ['a', '_', '1', ',', '\\\\ldots', ',', 'a', '_', 'n', '.']\n"
       ]
      }
     ],
     "prompt_number": 11
    },
    {
     "cell_type": "markdown",
     "metadata": {},
     "source": [
      "# Analysis with PlasTeX"
     ]
    },
    {
     "cell_type": "code",
     "collapsed": false,
     "input": [
      "from plasTeX.TeX import TeX"
     ],
     "language": "python",
     "metadata": {},
     "outputs": [],
     "prompt_number": 3
    },
    {
     "cell_type": "code",
     "collapsed": false,
     "input": [
      "tex = TeX()\n",
      "tex.input('$%s$'%maths[0])\n",
      "doc = tex.parse()"
     ],
     "language": "python",
     "metadata": {},
     "outputs": [],
     "prompt_number": 4
    },
    {
     "cell_type": "code",
     "collapsed": true,
     "input": [
      "print doc.source"
     ],
     "language": "python",
     "metadata": {},
     "outputs": [
      {
       "output_type": "stream",
       "stream": "stdout",
       "text": [
        "${\\bar\\alpha (\\theta _ i)}$\n"
       ]
      }
     ],
     "prompt_number": 5
    },
    {
     "cell_type": "code",
     "collapsed": false,
     "input": [
      "print doc.toXML()"
     ],
     "language": "python",
     "metadata": {},
     "outputs": [
      {
       "output_type": "stream",
       "stream": "stdout",
       "text": [
        "<dom-document xmlns:plastex=\"http://plastex.sf.net/\">\n",
        "<math id=\"a0000000001\">\n",
        "<bgroup id=\"a0000000002\">\n",
        "<bar id=\"a0000000003\">\n",
        "    <plastex:arg name=\"self\"><alpha id=\"a0000000004\"/></plastex:arg>\n",
        "</bar>(<theta id=\"a0000000005\"/><active char=\"_\" id=\"a0000000006\">\n",
        "    <plastex:arg name=\"self\">i</plastex:arg>\n",
        "</active>)</bgroup></math></dom-document>\n"
       ]
      }
     ],
     "prompt_number": 6
    },
    {
     "cell_type": "code",
     "collapsed": false,
     "input": [
      "def source_tree(node):\n",
      "    if node.childNodes:\n",
      "        return (node.nodeName, [source_tree(child) for child in node.childNodes])\n",
      "    else:\n",
      "        return node.source\n",
      "\n",
      "source_tree(doc.firstChild.firstChild)"
     ],
     "language": "python",
     "metadata": {},
     "outputs": [
      {
       "metadata": {},
       "output_type": "pyout",
       "prompt_number": 7,
       "text": [
        "('bgroup',\n",
        " [('bar', [u'\\\\alpha ']), u'(', u'\\\\theta ', ('active::_', [u'i']), u')'])"
       ]
      }
     ],
     "prompt_number": 7
    },
    {
     "cell_type": "code",
     "collapsed": false,
     "input": [
      "[n if n.nodeName == '#text' else n.nodeName for n in doc.firstChild.allChildNodes]"
     ],
     "language": "python",
     "metadata": {},
     "outputs": [
      {
       "metadata": {},
       "output_type": "pyout",
       "prompt_number": 11,
       "text": [
        "['bgroup', 'bar', 'alpha', u'(', 'theta', 'active::_', u'i', u')']"
       ]
      }
     ],
     "prompt_number": 11
    },
    {
     "cell_type": "code",
     "collapsed": false,
     "input": [],
     "language": "python",
     "metadata": {},
     "outputs": []
    }
   ],
   "metadata": {}
  }
 ]
}