{
 "cells": [
  {
   "cell_type": "code",
   "execution_count": 1,
   "metadata": {
    "collapsed": false
   },
   "outputs": [],
   "source": [
    "from IPython.core.display import Image "
   ]
  },
  {
   "cell_type": "code",
   "execution_count": 2,
   "metadata": {
    "collapsed": false
   },
   "outputs": [],
   "source": [
    "maths = [w.strip() for w in open('math-from-wikipedia.txt')]\n",
    "# generate images\n",
    "# tex2im = 'tex2im-1.8/tex2im'\n",
    "# ipython = get_ipython()\n",
    "# for i, code in enumerate(maths):\n",
    "#     tmp_out = 'img-math-from-wikipedia/%s.png'%i\n",
    "#     ipython.getoutput(\"%s -o %s \\\"{%s}\\\"\" % (tex2im, tmp_out, code.replace('\\\\','\\\\\\\\')))"
   ]
  },
  {
   "cell_type": "markdown",
   "metadata": {},
   "source": [
    "# Simple symbol splitting"
   ]
  },
  {
   "cell_type": "code",
   "execution_count": 11,
   "metadata": {
    "collapsed": false
   },
   "outputs": [
    {
     "name": "stdout",
     "output_type": "stream",
     "text": [
      "{\\bar \\alpha(\\theta_i)} ['{', '\\\\bar', ' ', '\\\\alpha', '(', '\\\\theta', '_', 'i', ')', '}']\n",
      "\\bar{ \\bar \\alpha} ['\\\\bar', '{', ' ', '\\\\bar', ' ', '\\\\alpha', '}']\n",
      "{D} ['{', 'D', '}']\n",
      "{\\alpha} ['{', '\\\\alpha', '}']\n",
      "{\\alpha}= (1-D) \\bar \\alpha(\\theta_i) + D \\bar{ \\bar \\alpha}. ['{', '\\\\alpha', '}', '=', ' ', '(', '1', '-', 'D', ')', ' ', '\\\\bar', ' ', '\\\\alpha', '(', '\\\\theta', '_', 'i', ')', ' ', '+', ' ', 'D', ' ', '\\\\bar', '{', ' ', '\\\\bar', ' ', '\\\\alpha', '}', '.']\n",
      "A =\\left ( \\frac{1329\\times10^{-H/5}}{D} \\right ) ^2 ['A', ' ', '=', '\\\\left', ' ', '(', ' ', '\\\\frac', '{', '1', '3', '2', '9', '\\\\times', '1', '0', '^', '{', '-', 'H', '/', '5', '}', '}', '{', 'D', '}', ' ', '\\\\right', ' ', ')', ' ', '^', '2']\n",
      "A ['A']\n",
      "D ['D']\n",
      "H ['H']\n",
      "a_1,\\ldots,a_n. ['a', '_', '1', ',', '\\\\ldots', ',', 'a', '_', 'n', '.']\n"
     ]
    }
   ],
   "source": [
    "def split_symbols(string):\n",
    "    symbol = ''\n",
    "    for s in string:\n",
    "        if s == '\\\\' or (symbol and s.isalpha()):\n",
    "            symbol += s\n",
    "        else:\n",
    "            if symbol:\n",
    "                yield symbol\n",
    "                symbol = ''\n",
    "            yield s\n",
    "\n",
    "for i in range(10):\n",
    "    print maths[i], list(split_symbols(maths[i]))"
   ]
  },
  {
   "cell_type": "markdown",
   "metadata": {},
   "source": [
    "# Analysis with PlasTeX"
   ]
  },
  {
   "cell_type": "code",
   "execution_count": 3,
   "metadata": {
    "collapsed": false
   },
   "outputs": [],
   "source": [
    "from plasTeX.TeX import TeX"
   ]
  },
  {
   "cell_type": "code",
   "execution_count": 4,
   "metadata": {
    "collapsed": false
   },
   "outputs": [],
   "source": [
    "tex = TeX()\n",
    "tex.input('$%s$'%maths[0])\n",
    "doc = tex.parse()"
   ]
  },
  {
   "cell_type": "code",
   "execution_count": 5,
   "metadata": {
    "collapsed": true
   },
   "outputs": [
    {
     "name": "stdout",
     "output_type": "stream",
     "text": [
      "${\\bar\\alpha (\\theta _ i)}$\n"
     ]
    }
   ],
   "source": [
    "print doc.source"
   ]
  },
  {
   "cell_type": "code",
   "execution_count": 6,
   "metadata": {
    "collapsed": false
   },
   "outputs": [
    {
     "name": "stdout",
     "output_type": "stream",
     "text": [
      "<dom-document xmlns:plastex=\"http://plastex.sf.net/\">\n",
      "<math id=\"a0000000001\">\n",
      "<bgroup id=\"a0000000002\">\n",
      "<bar id=\"a0000000003\">\n",
      "    <plastex:arg name=\"self\"><alpha id=\"a0000000004\"/></plastex:arg>\n",
      "</bar>(<theta id=\"a0000000005\"/><active char=\"_\" id=\"a0000000006\">\n",
      "    <plastex:arg name=\"self\">i</plastex:arg>\n",
      "</active>)</bgroup></math></dom-document>\n"
     ]
    }
   ],
   "source": [
    "print doc.toXML()"
   ]
  },
  {
   "cell_type": "code",
   "execution_count": 7,
   "metadata": {
    "collapsed": false
   },
   "outputs": [
    {
     "data": {
      "text/plain": [
       "('bgroup',\n",
       " [('bar', [u'\\\\alpha ']), u'(', u'\\\\theta ', ('active::_', [u'i']), u')'])"
      ]
     },
     "execution_count": 7,
     "metadata": {},
     "output_type": "execute_result"
    }
   ],
   "source": [
    "def source_tree(node):\n",
    "    if node.childNodes:\n",
    "        return (node.nodeName, [source_tree(child) for child in node.childNodes])\n",
    "    else:\n",
    "        return node.source\n",
    "\n",
    "source_tree(doc.firstChild.firstChild)"
   ]
  },
  {
   "cell_type": "code",
   "execution_count": 11,
   "metadata": {
    "collapsed": false
   },
   "outputs": [
    {
     "data": {
      "text/plain": [
       "['bgroup', 'bar', 'alpha', u'(', 'theta', 'active::_', u'i', u')']"
      ]
     },
     "execution_count": 11,
     "metadata": {},
     "output_type": "execute_result"
    }
   ],
   "source": [
    "[n if n.nodeName == '#text' else n.nodeName for n in doc.firstChild.allChildNodes]"
   ]
  },
  {
   "cell_type": "code",
   "execution_count": null,
   "metadata": {
    "collapsed": false
   },
   "outputs": [],
   "source": []
  }
 ],
 "metadata": {
  "kernelspec": {
   "display_name": "Python 2",
   "language": "python",
   "name": "python2"
  },
  "language_info": {
   "codemirror_mode": {
    "name": "ipython",
    "version": 2
   },
   "file_extension": ".py",
   "mimetype": "text/x-python",
   "name": "python",
   "nbconvert_exporter": "python",
   "pygments_lexer": "ipython2",
   "version": "2.7.11"
  }
 },
 "nbformat": 4,
 "nbformat_minor": 0
}
