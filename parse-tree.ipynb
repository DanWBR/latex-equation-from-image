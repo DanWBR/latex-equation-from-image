{
 "metadata": {
  "name": "",
  "signature": "sha256:0b8e360322aad3e91b6fb984d592d48d25b2a38000a38e880d29a2d235ff418d"
 },
 "nbformat": 3,
 "nbformat_minor": 0,
 "worksheets": [
  {
   "cells": [
    {
     "cell_type": "code",
     "collapsed": false,
     "input": [
      "from IPython.core.display import Image "
     ],
     "language": "python",
     "metadata": {},
     "outputs": [],
     "prompt_number": 1
    },
    {
     "cell_type": "code",
     "collapsed": false,
     "input": [
      "maths = [w.strip() for w in open('math-from-wikipedia.txt')]\n",
      "# generate images\n",
      "# tex2im = 'tex2im-1.8/tex2im'\n",
      "# ipython = get_ipython()\n",
      "# for i, code in enumerate(maths):\n",
      "#     tmp_out = 'img-math-from-wikipedia/%s.png'%i\n",
      "#     ipython.getoutput(\"%s -o %s \\\"{%s}\\\"\" % (tex2im, tmp_out, code.replace('\\\\','\\\\\\\\')))"
     ],
     "language": "python",
     "metadata": {},
     "outputs": [],
     "prompt_number": 2
    },
    {
     "cell_type": "code",
     "collapsed": false,
     "input": [
      "from plasTeX.TeX import TeX"
     ],
     "language": "python",
     "metadata": {},
     "outputs": [],
     "prompt_number": 3
    },
    {
     "cell_type": "code",
     "collapsed": false,
     "input": [
      "tex = TeX()\n",
      "tex.input('$%s$'%maths[0])\n",
      "doc = tex.parse()"
     ],
     "language": "python",
     "metadata": {},
     "outputs": [],
     "prompt_number": 4
    },
    {
     "cell_type": "code",
     "collapsed": true,
     "input": [
      "print doc.source"
     ],
     "language": "python",
     "metadata": {},
     "outputs": [
      {
       "output_type": "stream",
       "stream": "stdout",
       "text": [
        "${\\bar\\alpha (\\theta _ i)}$\n"
       ]
      }
     ],
     "prompt_number": 6
    },
    {
     "cell_type": "code",
     "collapsed": false,
     "input": [
      "print doc.toXML()"
     ],
     "language": "python",
     "metadata": {},
     "outputs": [
      {
       "output_type": "stream",
       "stream": "stdout",
       "text": [
        "<dom-document xmlns:plastex=\"http://plastex.sf.net/\">\n",
        "<math id=\"a0000000001\">\n",
        "<bgroup id=\"a0000000002\">\n",
        "<bar id=\"a0000000003\">\n",
        "    <plastex:arg name=\"self\"><alpha id=\"a0000000004\"/></plastex:arg>\n",
        "</bar>(<theta id=\"a0000000005\"/><active char=\"_\" id=\"a0000000006\">\n",
        "    <plastex:arg name=\"self\">i</plastex:arg>\n",
        "</active>)</bgroup></math></dom-document>\n"
       ]
      }
     ],
     "prompt_number": 7
    },
    {
     "cell_type": "code",
     "collapsed": false,
     "input": [
      "def source_tree(node):\n",
      "    if node.childNodes:\n",
      "        return (node.nodeName, [source_tree(child) for child in node.childNodes])\n",
      "    else:\n",
      "        return node.source\n",
      "\n",
      "source_tree(doc.firstChild.firstChild)"
     ],
     "language": "python",
     "metadata": {},
     "outputs": [
      {
       "metadata": {},
       "output_type": "pyout",
       "prompt_number": 22,
       "text": [
        "('bgroup',\n",
        " [('bar', [u'\\\\alpha ']), u'(', u'\\\\theta ', ('active::_', [u'i']), u')'])"
       ]
      }
     ],
     "prompt_number": 22
    },
    {
     "cell_type": "code",
     "collapsed": false,
     "input": [],
     "language": "python",
     "metadata": {},
     "outputs": []
    }
   ],
   "metadata": {}
  }
 ]
}