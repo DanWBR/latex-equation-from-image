{
 "cells": [
  {
   "cell_type": "code",
   "execution_count": 8,
   "metadata": {
    "collapsed": false
   },
   "outputs": [
    {
     "name": "stdout",
     "output_type": "stream",
     "text": [
      "Populating the interactive namespace from numpy and matplotlib\n"
     ]
    }
   ],
   "source": [
    "%pylab --no-import-all inline\n",
    "from add_symbol_position_logging import render_positions"
   ]
  },
  {
   "cell_type": "code",
   "execution_count": 31,
   "metadata": {
    "collapsed": false
   },
   "outputs": [
    {
     "data": {
      "text/plain": [
       "(('math',\n",
       "  [('savepos', ['0']),\n",
       "   A,\n",
       "   ('savepos', ['1']),\n",
       "   =,\n",
       "   ('savepos', ['2']),\n",
       "   u'\\\\left(',\n",
       "   ('savepos', ['16']),\n",
       "   ('frac',\n",
       "    [('savepos', ['3']),\n",
       "     u'1',\n",
       "     ('savepos', ['4']),\n",
       "     u'3',\n",
       "     ('savepos', ['5']),\n",
       "     u'2',\n",
       "     ('savepos', ['6']),\n",
       "     u'9',\n",
       "     ('savepos', ['7']),\n",
       "     u'\\\\times ',\n",
       "     ('savepos', ['8']),\n",
       "     u'1',\n",
       "     ('savepos', ['9']),\n",
       "     u'0',\n",
       "     ('savepos', ['14']),\n",
       "     ('active::^',\n",
       "      [('savepos', ['10']),\n",
       "       u'-',\n",
       "       ('savepos', ['11']),\n",
       "       u'H',\n",
       "       ('savepos', ['12']),\n",
       "       u'/',\n",
       "       ('savepos', ['13']),\n",
       "       u'5'])],\n",
       "    [('savepos', ['15']), u'D']),\n",
       "   ('savepos', ['17']),\n",
       "   u'\\\\right)',\n",
       "   ('savepos', ['19']),\n",
       "   ('active::^', [('savepos', ['18']), u'2'])]),\n",
       " {1: (31.25, 27.083778381347656),\n",
       "  2: (75.2312978108724, 27.083778381347656),\n",
       "  3: (116.68936411539714, 43.48926544189453),\n",
       "  4: (133.2982381184896, 43.48926544189453),\n",
       "  5: (149.90711212158203, 43.48926544189453),\n",
       "  6: (166.5159861246745, 43.48926544189453),\n",
       "  7: (183.12486012776694, 43.48926544189453),\n",
       "  8: (209.16659037272137, 43.48926544189453),\n",
       "  9: (225.7754643758138, 43.48926544189453),\n",
       "  10: (242.38433837890625, 56.06339772542318),\n",
       "  11: (264.95405832926434, 56.06339772542318),\n",
       "  12: (289.635976155599, 56.06339772542318),\n",
       "  13: (304.97175852457684, 56.06339772542318),\n",
       "  14: (242.38433837890625, 43.48926544189453),\n",
       "  15: (204.89114125569662, 12.715466817220053),\n",
       "  16: (111.68937683105469, 27.083778381347656),\n",
       "  17: (326.2335459391276, 27.083778381347656),\n",
       "  18: (358.06210835774743, 42.20428466796875),\n",
       "  19: (351.1178334554037, 27.083778381347656)})"
      ]
     },
     "execution_count": 31,
     "metadata": {},
     "output_type": "execute_result"
    }
   ],
   "source": [
    "code = r'A =\\left ( \\frac{1329\\times10^{-H/5}}{D} \\right ) ^2'\n",
    "new_command, im, positions = render_positions(code)\n",
    "new_command, positions"
   ]
  },
  {
   "cell_type": "code",
   "execution_count": 34,
   "metadata": {
    "collapsed": false
   },
   "outputs": [
    {
     "data": {
      "image/png": "[encoded data removed]",
      "text/plain": [
       "<matplotlib.figure.Figure at 0x110d48f10>"
      ]
     },
     "metadata": {},
     "output_type": "display_data"
    }
   ],
   "source": [
    "ax = pyplot.axes()\n",
    "ax.imshow(im)\n",
    "for n,(x,y) in positions.items():\n",
    "    x,y = x, h-y\n",
    "    ax.add_patch( matplotlib.patches.Circle((x,y)) )"
   ]
  },
  {
   "cell_type": "markdown",
   "metadata": {},
   "source": [
    "# ???\n",
    "this seems... misaligned on the x-axis"
   ]
  },
  {
   "cell_type": "markdown",
   "metadata": {},
   "source": [
    "Can I make a gold-standard transition thing from this?"
   ]
  },
  {
   "cell_type": "code",
   "execution_count": null,
   "metadata": {
    "collapsed": true
   },
   "outputs": [],
   "source": []
  }
 ],
 "metadata": {
  "kernelspec": {
   "display_name": "Python 2",
   "language": "python",
   "name": "python2"
  },
  "language_info": {
   "codemirror_mode": {
    "name": "ipython",
    "version": 2
   },
   "file_extension": ".py",
   "mimetype": "text/x-python",
   "name": "python",
   "nbconvert_exporter": "python",
   "pygments_lexer": "ipython2",
   "version": "2.7.11"
  }
 },
 "nbformat": 4,
 "nbformat_minor": 0
}
