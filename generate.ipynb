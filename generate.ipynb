{
 "metadata": {
  "name": "",
  "signature": "sha256:f3c3f1446b41512750400aa14e4455c1838613f7e8eab7c6e28ab984199f8024"
 },
 "nbformat": 3,
 "nbformat_minor": 0,
 "worksheets": [
  {
   "cells": [
    {
     "cell_type": "code",
     "collapsed": false,
     "input": [
      "def getlines(fname):\n",
      "    return [l.strip() for l in file(fname).readlines() if l.strip() and l[0] != '#']\n",
      "symbols = getlines('symbols.txt')\n",
      "ops = getlines('ops.txt')"
     ],
     "language": "python",
     "metadata": {},
     "outputs": [],
     "prompt_number": 1
    },
    {
     "cell_type": "code",
     "collapsed": false,
     "input": [
      "from random import choice\n",
      "\n",
      "def generate(maxdepth = 10):\n",
      "    c = choice([1,2,3])\n",
      "    if c == 1 or maxdepth < 1:\n",
      "        return choice(symbols)\n",
      "    if c == 2:\n",
      "        return '%s %s' % (generate(maxdepth-1), generate(maxdepth-1))\n",
      "    if c == 3:\n",
      "        split_op = choice(ops).split('{}')\n",
      "        in_op = ['{%s}' % generate(maxdepth-1) for _ in range(len(split_op)-1)]\n",
      "        merger = split_op + in_op\n",
      "        merger[::2] = split_op\n",
      "        merger[1::2] = in_op\n",
      "        return ''.join(merger)"
     ],
     "language": "python",
     "metadata": {},
     "outputs": [],
     "prompt_number": 2
    },
    {
     "cell_type": "code",
     "collapsed": false,
     "input": [
      "from IPython.core.display import Image \n",
      "import time\n",
      "\n",
      "code = generate(maxdepth = 3)\n",
      "print code\n",
      "\n",
      "tex2im = 'tex2im-1.8/tex2im'\n",
      "out = 'tex.png'\n",
      "get_ipython().getoutput(\"%s -o %s \\\"{%s}\\\"\" % (tex2im, tmp_out, code.replace('\\\\','\\\\\\\\')))\n",
      "None"
     ],
     "language": "python",
     "metadata": {},
     "outputs": [
      {
       "output_type": "stream",
       "stream": "stdout",
       "text": [
        "\\nsupseteq \\nexists \\simeq\n"
       ]
      }
     ],
     "prompt_number": 8
    },
    {
     "cell_type": "code",
     "collapsed": false,
     "input": [
      "Image(filename='tex.png')"
     ],
     "language": "python",
     "metadata": {},
     "outputs": [
      {
       "metadata": {},
       "output_type": "pyout",
       "png": "[encoded data removed]",
       "prompt_number": 9,
       "text": [
        "<IPython.core.display.Image at 0x109179510>"
       ]
      }
     ],
     "prompt_number": 9
    },
    {
     "cell_type": "code",
     "collapsed": false,
     "input": [],
     "language": "python",
     "metadata": {},
     "outputs": []
    }
   ],
   "metadata": {}
  }
 ]
}