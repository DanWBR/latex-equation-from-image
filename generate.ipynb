{
 "metadata": {
  "name": "",
  "signature": "sha256:3e10c7d38609e2b49ea784a60924d87cf5433d9d261f246e5f8441d4742a50e9"
 },
 "nbformat": 3,
 "nbformat_minor": 0,
 "worksheets": [
  {
   "cells": [
    {
     "cell_type": "code",
     "collapsed": false,
     "input": [
      "def getlines(fname):\n",
      "    return [l.strip() for l in file(fname).readlines() if l.strip() and l[0] != '#']\n",
      "symbols = getlines('symbols.txt')\n",
      "ops = getlines('ops.txt')"
     ],
     "language": "python",
     "metadata": {},
     "outputs": [],
     "prompt_number": 15
    },
    {
     "cell_type": "code",
     "collapsed": false,
     "input": [
      "from random import choice\n",
      "\n",
      "def generate(maxdepth = 10):\n",
      "    c = choice([1,2,3])\n",
      "    if c == 1 or maxdepth < 1:\n",
      "        return choice(symbols)\n",
      "    if c == 2:\n",
      "        return '%s %s' % (generate(maxdepth-1), generate(maxdepth-1))\n",
      "    if c == 3:\n",
      "        split_op = choice(ops).split('{}')\n",
      "        in_op = ['{%s}' % generate(maxdepth-1) for _ in range(len(split_op)-1)]\n",
      "        merger = split_op + in_op\n",
      "        merger[::2] = split_op\n",
      "        merger[1::2] = in_op\n",
      "        return ''.join(merger)"
     ],
     "language": "python",
     "metadata": {},
     "outputs": [],
     "prompt_number": 108
    },
    {
     "cell_type": "code",
     "collapsed": false,
     "input": [
      "from IPython.core.display import Image \n",
      "import time\n",
      "\n",
      "code = generate(maxdepth = 3)\n",
      "print code\n",
      "\n",
      "tex2im = 'tex2im-1.8/tex2im'\n",
      "tmp_out = '/tmp/tex.png'\n",
      "get_ipython().getoutput(\"%s -o %s \\\"{%s}\\\"\" % (tex2im, tmp_out, code.replace('\\\\','\\\\\\\\')))\n",
      "None"
     ],
     "language": "python",
     "metadata": {},
     "outputs": [
      {
       "output_type": "stream",
       "stream": "stdout",
       "text": [
        "\\acute{7 !} \\int^{\\bigotimes^{V}_{\\leftarrow}}_{Y o}\n"
       ]
      }
     ],
     "prompt_number": 168
    },
    {
     "cell_type": "code",
     "collapsed": false,
     "input": [
      "Image(filename='/tmp/tex.png')"
     ],
     "language": "python",
     "metadata": {},
     "outputs": [
      {
       "metadata": {},
       "output_type": "pyout",
       "png": "[encoded data removed]",
       "prompt_number": 169,
       "text": [
        "<IPython.core.display.Image at 0x10850dfd0>"
       ]
      }
     ],
     "prompt_number": 169
    },
    {
     "cell_type": "code",
     "collapsed": false,
     "input": [],
     "language": "python",
     "metadata": {},
     "outputs": []
    }
   ],
   "metadata": {}
  }
 ]
}