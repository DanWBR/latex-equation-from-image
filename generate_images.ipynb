{
 "cells": [
  {
   "cell_type": "code",
   "execution_count": 1,
   "metadata": {
    "collapsed": false
   },
   "outputs": [],
   "source": [
    "def getlines(fname):\n",
    "    return [l.strip() for l in file(fname).readlines() if l.strip() and l[0] != '#']\n",
    "symbols = getlines('symbols.txt')\n",
    "ops = getlines('ops.txt')"
   ]
  },
  {
   "cell_type": "code",
   "execution_count": 2,
   "metadata": {
    "collapsed": false
   },
   "outputs": [],
   "source": [
    "from random import choice\n",
    "\n",
    "def generate(maxdepth = 10):\n",
    "    c = choice([1,2,3])\n",
    "    if c == 1 or maxdepth < 1:\n",
    "        return choice(symbols)\n",
    "    if c == 2:\n",
    "        return '%s %s' % (generate(maxdepth-1), generate(maxdepth-1))\n",
    "    if c == 3:\n",
    "        split_op = choice(ops).split('{}')\n",
    "        in_op = ['{%s}' % generate(maxdepth-1) for _ in range(len(split_op)-1)]\n",
    "        merger = split_op + in_op\n",
    "        merger[::2] = split_op\n",
    "        merger[1::2] = in_op\n",
    "        return ''.join(merger)"
   ]
  },
  {
   "cell_type": "code",
   "execution_count": 8,
   "metadata": {
    "collapsed": false
   },
   "outputs": [
    {
     "name": "stdout",
     "output_type": "stream",
     "text": [
      "\\nsupseteq \\nexists \\simeq\n"
     ]
    }
   ],
   "source": [
    "from IPython.core.display import Image \n",
    "import time\n",
    "\n",
    "code = generate(maxdepth = 3)\n",
    "print code\n",
    "\n",
    "tex2im = 'tex2im-1.8/tex2im'\n",
    "out = 'tex.png'\n",
    "get_ipython().getoutput(\"%s -o %s \\\"{%s}\\\"\" % (tex2im, tmp_out, code.replace('\\\\','\\\\\\\\')))\n",
    "None"
   ]
  },
  {
   "cell_type": "code",
   "execution_count": 9,
   "metadata": {
    "collapsed": false
   },
   "outputs": [
    {
     "data": {
      "image/png": "[encoded data removed]",
      "text/plain": [
       "<IPython.core.display.Image at 0x109179510>"
      ]
     },
     "execution_count": 9,
     "metadata": {},
     "output_type": "execute_result"
    }
   ],
   "source": [
    "Image(filename='tex.png')"
   ]
  },
  {
   "cell_type": "code",
   "execution_count": null,
   "metadata": {
    "collapsed": false
   },
   "outputs": [],
   "source": []
  }
 ],
 "metadata": {
  "kernelspec": {
   "display_name": "Python 2",
   "language": "python",
   "name": "python2"
  },
  "language_info": {
   "codemirror_mode": {
    "name": "ipython",
    "version": 2
   },
   "file_extension": ".py",
   "mimetype": "text/x-python",
   "name": "python",
   "nbconvert_exporter": "python",
   "pygments_lexer": "ipython2",
   "version": "2.7.11"
  }
 },
 "nbformat": 4,
 "nbformat_minor": 0
}
