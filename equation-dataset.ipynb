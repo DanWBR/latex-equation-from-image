{
 "metadata": {
  "name": "",
  "signature": "sha256:c8d29e8c0e6d1ae220fb8e1e0b81638347bf3ad0af86eade79bc168b322c6757"
 },
 "nbformat": 3,
 "nbformat_minor": 0,
 "worksheets": [
  {
   "cells": [
    {
     "cell_type": "markdown",
     "metadata": {},
     "source": [
      "# A dataset of LaTeX equation images\n",
      "\n",
      "Download the `enwiki-<version>-pages-articles.xml.bz` file from \n",
      "[dumps.wikimedia.org](http://dumps.wikimedia.org/enwiki/latest/enwiki-latest-pages-articles.xml.bz2) or [torrent it](http://meta.wikimedia.org/wiki/Data_dump_torrents#enwiki).\n",
      "Here's a magnet link to the \n",
      "[2015-05-15 version](magnet:?xt=urn:btih:4bd3774099006a6cb960c70ed370b57ac84bcb86&dn=enwiki-20150515-pages-articles.xml.bz2&tr=udp%3A%2F%2Ftracker.openbittorrent.com%3A80&ws=http%3A%2F%2Fdumps.wikimedia.org%2Fenwiki%2F20150515%2Fenwiki-20150515-pages-articles.xml.bz2&ws=http%3A%2F%2Fdumps.wikimedia.your.org%2Fenwiki%2F20150515%2Fenwiki-20150515-pages-articles.xml.bz2). Don't unzip it! It's about 10 gb in size, and you can use it even though it's compressed:"
     ]
    },
    {
     "cell_type": "code",
     "collapsed": false,
     "input": [
      "!bzcat enwiki-20150515-pages-articles.xml.bz2 2>/dev/null | head -1"
     ],
     "language": "python",
     "metadata": {},
     "outputs": [
      {
       "output_type": "stream",
       "stream": "stdout",
       "text": [
        "<mediawiki xmlns=\"http://www.mediawiki.org/xml/export-0.10/\" xmlns:xsi=\"http://www.w3.org/2001/XMLSchema-instance\" xsi:schemaLocation=\"http://www.mediawiki.org/xml/export-0.10/ http://www.mediawiki.org/xml/export-0.10.xsd\" version=\"0.10\" xml:lang=\"en\">\r\n"
       ]
      }
     ],
     "prompt_number": 53
    },
    {
     "cell_type": "markdown",
     "metadata": {},
     "source": [
      "Now extract all the math expressions using [pcregrep](http://www.pcre.org):"
     ]
    },
    {
     "cell_type": "code",
     "collapsed": false,
     "input": [
      "!bzcat enwiki-20150515-pages-articles.xml.bz2 2>/dev/null | head -10000 \\\n",
      "    | pcregrep -o1 '&lt;math&gt;((?:(?!math).)*?)&lt;/math'"
     ],
     "language": "python",
     "metadata": {},
     "outputs": [
      {
       "output_type": "stream",
       "stream": "stdout",
       "text": [
        "{\\bar \\alpha(\\theta_i)}\r\n",
        "\\bar{ \\bar \\alpha}\r\n",
        "{D}\r\n",
        "{\\alpha}\r\n",
        "{\\alpha}= (1-D) \\bar \\alpha(\\theta_i) + D \\bar{ \\bar \\alpha}.\r\n",
        "A =\\left ( \\frac{1329\\times10^{-H/5}}{D} \\right ) ^2\r\n",
        "A\r\n",
        "D\r\n",
        "H\r\n"
       ]
      }
     ],
     "prompt_number": 54
    },
    {
     "cell_type": "code",
     "collapsed": false,
     "input": [
      "!bzcat enwiki-20150515-pages-articles.xml.bz2 2>/dev/null | head -20000 \\\n",
      "    | pcregrep --buffer-size 2000000 -o1 '&lt;math&gt;((?:(?!math).)*?)&lt;/math' \\\n",
      "    > enwiki-equations.txt"
     ],
     "language": "python",
     "metadata": {},
     "outputs": [],
     "prompt_number": 57
    },
    {
     "cell_type": "markdown",
     "metadata": {},
     "source": [
      "Then generate an image for each line using [tex2im](http://www.nought.de/tex2im.php):"
     ]
    },
    {
     "cell_type": "code",
     "collapsed": false,
     "input": [
      "!mkdir enwiki-equation-images\n",
      "for i,code in enumerate(open('enwiki-equations.txt')):\n",
      "#     print i, code\n",
      "    !tex2im-1.8/tex2im -o enwiki-equation-images/{i}.png '{code}'"
     ],
     "language": "python",
     "metadata": {},
     "outputs": []
    },
    {
     "cell_type": "code",
     "collapsed": false,
     "input": [],
     "language": "python",
     "metadata": {},
     "outputs": []
    }
   ],
   "metadata": {}
  }
 ]
}