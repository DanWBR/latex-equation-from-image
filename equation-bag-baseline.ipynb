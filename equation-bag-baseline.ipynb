{
 "cells": [
  {
   "cell_type": "code",
   "execution_count": 1,
   "metadata": {
    "collapsed": false
   },
   "outputs": [
    {
     "name": "stdout",
     "output_type": "stream",
     "text": [
      "Populating the interactive namespace from numpy and matplotlib\n"
     ]
    }
   ],
   "source": [
    "%pylab --no-import-all inline\n",
    "import warnings\n",
    "warnings.filterwarnings('ignore')"
   ]
  },
  {
   "cell_type": "markdown",
   "metadata": {},
   "source": [
    "# An OCR bag-of-symbols baseline for LaTeX equation images\n",
    "## Load the equations and images"
   ]
  },
  {
   "cell_type": "code",
   "execution_count": 25,
   "metadata": {
    "collapsed": false
   },
   "outputs": [],
   "source": [
    "import skimage.io\n",
    "from glob import glob\n",
    "import re\n",
    "import numpy as np\n",
    "from sklearn.feature_extraction.text import CountVectorizer\n",
    "\n",
    "equations, images = [], []\n",
    "for i, line in enumerate(open('enwiki-equations.txt')):\n",
    "    equations.append( line.strip() )\n",
    "    images.append( skimage.io.imread('enwiki-equation-images/%s.png'%i, flatten=True)/255.0 )"
   ]
  },
  {
   "cell_type": "markdown",
   "metadata": {},
   "source": [
    "## Naively parse the equations into bag-of-symbols"
   ]
  },
  {
   "cell_type": "code",
   "execution_count": 26,
   "metadata": {
    "collapsed": false
   },
   "outputs": [
    {
     "data": {
      "text/plain": [
       "(54, 66)"
      ]
     },
     "execution_count": 26,
     "metadata": {},
     "output_type": "execute_result"
    }
   ],
   "source": [
    "def split_symbols(string):\n",
    "    # match 3 symbol types: escaped brackets, names, non-(spaces/brackets)\n",
    "    return re.findall(r'(\\\\[{}|]|\\\\[a-z]+|[^\\s{}])', string)\n",
    "\n",
    "vectorizer = CountVectorizer(analyzer=split_symbols, binary=True)\n",
    "equation_bags = vectorizer.fit_transform(equations).toarray()\n",
    "equation_bags.shape"
   ]
  },
  {
   "cell_type": "markdown",
   "metadata": {},
   "source": [
    "## Extract scale-invariant component images"
   ]
  },
  {
   "cell_type": "code",
   "execution_count": 27,
   "metadata": {
    "collapsed": false
   },
   "outputs": [],
   "source": [
    "import skimage.measure\n",
    "import skimage.transform\n",
    "import skimage.color\n",
    "\n",
    "def get_scaled_bbox(buff, region, scale=4.0):\n",
    "    t, l, b, r = region.bbox\n",
    "    h_, w_ = region.local_centroid\n",
    "    off = scale / max(h_,w_)\n",
    "    minr = buff-off - w_ + t\n",
    "    minc = buff-off - h_ + l\n",
    "    maxr = buff+off + w_ + b\n",
    "    maxc = buff+off + h_ + r\n",
    "    return minr, minc, maxr, maxc"
   ]
  },
  {
   "cell_type": "markdown",
   "metadata": {},
   "source": [
    "### Demo of `get_scaled_bbox`"
   ]
  },
  {
   "cell_type": "code",
   "execution_count": 28,
   "metadata": {
    "collapsed": false
   },
   "outputs": [
    {
     "name": "stdout",
     "output_type": "stream",
     "text": [
      "a_1,\\ldots,a_n.\n"
     ]
    },
    {
     "data": {
      "image/png": "[encoded data removed]",
      "text/plain": [
       "<matplotlib.figure.Figure at 0x110a10690>"
      ]
     },
     "metadata": {},
     "output_type": "display_data"
    }
   ],
   "source": [
    "i = 9\n",
    "image = images[i]\n",
    "print equations[i]\n",
    "label_image = skimage.measure.label(image)\n",
    "image_label_overlay = skimage.color.label2rgb(label_image, image=image)\n",
    "\n",
    "# add a padding around the inverted image\n",
    "buff = max(image.shape)/2\n",
    "padded = np.pad(1-image, buff, mode='minimum')\n",
    "\n",
    "# plot the labeles image and the padded image\n",
    "pyplot.subplots(figsize=(12,8))\n",
    "ax1, ax2 = pyplot.subplot(221), pyplot.subplot(222)\n",
    "ax1.imshow(image_label_overlay, interpolation='none')\n",
    "ax2.matshow(padded)\n",
    "\n",
    "def draw_rect(ax, t,l,b,r):\n",
    "    ax.add_patch( matplotlib.patches.Rectangle(\n",
    "        (l, t), r - l, b - t, fill=False, edgecolor='red', linewidth=2) )\n",
    "\n",
    "parts = []\n",
    "for region in skimage.measure.regionprops(label_image, 1-image):\n",
    "    # check if \n",
    "    if np.any(region.intensity_image * region.image):\n",
    "        # plot the normal bounding boxes in the labeled image\n",
    "        draw_rect(ax1, *region.bbox)\n",
    "        # plot the scale-invariant boxes in the padded image\n",
    "        draw_rect(ax2, *get_scaled_bbox(buff, region))\n",
    "        # extract component from image and scale\n",
    "        minr, minc, maxr, maxc = get_scaled_bbox(buff, region)\n",
    "        parts.append(skimage.transform.resize(padded[minr:maxr, minc:maxc], (40,40)))\n",
    "\n",
    "# plot all scaled components\n",
    "for i,p in enumerate(parts):\n",
    "    ax = pyplot.subplot(2,len(parts),len(parts)+1+i)\n",
    "    ax.set_axis_off()\n",
    "    ax.matshow(p)"
   ]
  },
  {
   "cell_type": "markdown",
   "metadata": {},
   "source": [
    "# Sum the scaled components, and flatten into vectors"
   ]
  },
  {
   "cell_type": "code",
   "execution_count": 6,
   "metadata": {
    "collapsed": false
   },
   "outputs": [
    {
     "data": {
      "text/plain": [
       "(54, 1600)"
      ]
     },
     "execution_count": 6,
     "metadata": {},
     "output_type": "execute_result"
    },
    {
     "data": {
      "image/png": "[encoded data removed]",
      "text/plain": [
       "<matplotlib.figure.Figure at 0x105ffec90>"
      ]
     },
     "metadata": {},
     "output_type": "display_data"
    }
   ],
   "source": [
    "def get_parts(image, label_image = None, size=(40,40)):\n",
    "    if label_image == None:\n",
    "        label_image = skimage.measure.label(image)\n",
    "    buff = max(image.shape)/2\n",
    "    padded = np.pad(1-image, buff, mode='minimum')\n",
    "    for region in skimage.measure.regionprops(label_image, 1-image):\n",
    "        if np.any(region.intensity_image * region.image):\n",
    "            minr, minc, maxr, maxc = get_scaled_bbox(buff, region)\n",
    "            part = padded[minr:maxr, minc:maxc]\n",
    "            yield skimage.transform.resize(part, (40,40))\n",
    "\n",
    "component_sums = np.vstack([sum(get_parts(img)).flatten() for img in images])\n",
    "# you get the component-sum image back when you reshape it, it looks funky!\n",
    "pyplot.matshow(component_sums[-1].reshape(40,40))\n",
    "component_sums.shape"
   ]
  },
  {
   "cell_type": "markdown",
   "metadata": {},
   "source": [
    "# Train models"
   ]
  },
  {
   "cell_type": "code",
   "execution_count": 7,
   "metadata": {
    "collapsed": false
   },
   "outputs": [
    {
     "data": {
      "text/plain": [
       "0.66471092683824839"
      ]
     },
     "execution_count": 7,
     "metadata": {},
     "output_type": "execute_result"
    }
   ],
   "source": [
    "from sklearn.svm import SVC\n",
    "from sklearn.multiclass import OneVsRestClassifier\n",
    "from sklearn.cross_validation import KFold\n",
    "from sklearn.metrics import f1_score\n",
    "\n",
    "model = OneVsRestClassifier(SVC(kernel='linear'))\n",
    "\n",
    "def precision(rel, ret):\n",
    "    np.where(ret.sum(axis=1)==0, 0, np.true_divide( (rel & ret).sum(axis=1), ret.sum(axis=1) ))\n",
    "\n",
    "n_fold = 4\n",
    "kf = KFold(equation_bags.shape[0], n_folds=n_fold, shuffle=True)\n",
    "test_scores = []\n",
    "for train, test in kf:\n",
    "    X_train, X_test = component_sums[train], component_sums[test]\n",
    "    Y_train, Y_test = equation_bags[train], equation_bags[test]\n",
    "    \n",
    "    model.fit(X_train, Y_train)\n",
    "    test_scores.append( f1_score(Y_test, model.predict(X_test)) )\n",
    "    \n",
    "np.mean(test_scores)"
   ]
  },
  {
   "cell_type": "code",
   "execution_count": 7,
   "metadata": {
    "collapsed": false
   },
   "outputs": [],
   "source": []
  }
 ],
 "metadata": {
  "kernelspec": {
   "display_name": "Python 2",
   "language": "python",
   "name": "python2"
  },
  "language_info": {
   "codemirror_mode": {
    "name": "ipython",
    "version": 2
   },
   "file_extension": ".py",
   "mimetype": "text/x-python",
   "name": "python",
   "nbconvert_exporter": "python",
   "pygments_lexer": "ipython2",
   "version": "2.7.11"
  }
 },
 "nbformat": 4,
 "nbformat_minor": 0
}
